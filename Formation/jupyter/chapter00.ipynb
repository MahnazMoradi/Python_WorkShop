{
 "cells": [
  {
   "cell_type": "markdown",
   "metadata": {},
   "source": [
    "# How To Install Python 3.7 Anaconda\n",
    "\n",
    "We suggest installing Anaconda. Installation of Python using Anaconda is local and does not require administrator rights.<br>\n",
    "The graphical installer for Windows [here], MacOS, or Linux is [here](https://www.anaconda.com/distribution/#download-section)\n",
    "\n",
    "Choose your operating system and download the Anaconda installer for Python 3.7 version.<br>\n",
    "\n",
    "\n",
    "Then, for Windows, double click the installer to launch and simply follow the instructions.<br>\n",
    "\n",
    "\n",
    "This installation includes Jupyter and Python 3.7. \n",
    "\n",
    "\n",
    "<br>\n",
    "\n"
   ]
  },
  {
   "cell_type": "markdown",
   "metadata": {},
   "source": [
    "Now, we will need to install some Python libraries in order to be ready for the workshop. <br>\n",
    "\n",
    "To do so, for those that are working with Windows, you can go to Windows Start menu located in the lower left portion of the desktop and search for ‘Command Prompt’ in the search box located at the bottom of the menu. <br>\n",
    "Only for Windows users, before installing anything, we have to write the following command into the ‘Command Prompt’:<br>\n",
    "conda config --add channels conda-forge<br>\n",
    "\n",
    "This way, we can use the fowlling command in order to install the packages we need:<br> \n",
    "conda install PACKAGENAME.<br>\n",
    "\n",
    "For example, type the command: conda install keras <br>\n",
    "and you will probably need to answer by \"y\" to a question about updating or installing other related libraries that will be suggested to you.\n",
    "\n",
    "You can now open a Jupyter notebook to get started with the following command: jupyter-notebook\n",
    "\n",
    "<br>\n"
   ]
  },
  {
   "cell_type": "markdown",
   "metadata": {},
   "source": [
    "For those that want to work later on different Python platforms more adapted to your work, you can refer to: <br>\n",
    "1. [Pycharm](https://www.jetbrains.com/pycharm/)\n",
    "2. [Sublime](http://www.sublimetext.com/), and\n",
    "3. [Rodeo](http://rodeo.yhat.com/). "
   ]
  },
  {
   "cell_type": "markdown",
   "metadata": {},
   "source": [
    "For those that want to work on online Python platforms, you can refer to: \n",
    "[here](http://www.onlinegdb.com/)"
   ]
  }
 ],
 "metadata": {
  "kernelspec": {
   "display_name": "Python 3",
   "language": "python",
   "name": "python3"
  },
  "language_info": {
   "codemirror_mode": {
    "name": "ipython",
    "version": 3
   },
   "file_extension": ".py",
   "mimetype": "text/x-python",
   "name": "python",
   "nbconvert_exporter": "python",
   "pygments_lexer": "ipython3",
   "version": "3.7.1"
  }
 },
 "nbformat": 4,
 "nbformat_minor": 2
}
